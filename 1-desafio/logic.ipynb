{
 "cells": [
  {
   "cell_type": "markdown",
   "metadata": {
    "vscode": {
     "languageId": "plaintext"
    }
   },
   "source": [
    "# 1 Desafio"
   ]
  },
  {
   "cell_type": "markdown",
   "metadata": {},
   "source": [
    "## Functions"
   ]
  },
  {
   "cell_type": "code",
   "execution_count": 2,
   "metadata": {},
   "outputs": [],
   "source": [
    "def activation_function(x):\n",
    "    return 1 if x >= 0 else 0\n",
    "\n",
    "def perceptron(x, w, b):\n",
    "    return activation_function(sum([x[i] * w[i] for i in range(len(x))]) + b)"
   ]
  },
  {
   "cell_type": "markdown",
   "metadata": {},
   "source": [
    "## And Gates"
   ]
  },
  {
   "cell_type": "code",
   "execution_count": 4,
   "metadata": {},
   "outputs": [
    {
     "name": "stdout",
     "output_type": "stream",
     "text": [
      "For this input [0, 0] the output is 0\n",
      "For this input [0, 1] the output is 0\n",
      "For this input [1, 0] the output is 0\n",
      "For this input [1, 1] the output is 1\n"
     ]
    }
   ],
   "source": [
    "\n",
    "if __name__ == '__main__':\n",
    "    and_data = [[0, 0], [0, 1], [1, 0], [1, 1]]\n",
    "    w = [0.3, 0.3]\n",
    "    for x in and_data:\n",
    "        y = perceptron(x, w, b=-0.5)\n",
    "        print(f'For this input {x} the output is {y}')"
   ]
  },
  {
   "cell_type": "markdown",
   "metadata": {},
   "source": [
    "## Or Gates"
   ]
  },
  {
   "cell_type": "code",
   "execution_count": 5,
   "metadata": {},
   "outputs": [
    {
     "name": "stdout",
     "output_type": "stream",
     "text": [
      "For this input [0, 0] the output is 0\n",
      "For this input [0, 1] the output is 1\n",
      "For this input [1, 0] the output is 1\n",
      "For this input [1, 1] the output is 1\n"
     ]
    }
   ],
   "source": [
    "\n",
    "if __name__ == '__main__':\n",
    "    or_data = [[0, 0], [0, 1], [1, 0], [1, 1]]\n",
    "    w = [0.3, 0.3]\n",
    "    for x in or_data:\n",
    "        y = perceptron(x, w, b=-0.3)\n",
    "        print(f'For this input {x} the output is {y}')"
   ]
  },
  {
   "cell_type": "markdown",
   "metadata": {},
   "source": [
    "## Not Gates"
   ]
  },
  {
   "cell_type": "code",
   "execution_count": 6,
   "metadata": {},
   "outputs": [
    {
     "name": "stdout",
     "output_type": "stream",
     "text": [
      "For this input [0] the output is 0\n",
      "For this input [1] the output is 1\n"
     ]
    }
   ],
   "source": [
    "if __name__ == '__main__':\n",
    "    not_data = [[0], [1]]\n",
    "    w = [1]\n",
    "    for x in not_data:\n",
    "        y = perceptron(x, w, b=-0.5)\n",
    "        print(f'For this input {x} the output is {y}')"
   ]
  },
  {
   "cell_type": "markdown",
   "metadata": {},
   "source": [
    "## Xor Gates"
   ]
  },
  {
   "cell_type": "code",
   "execution_count": 8,
   "metadata": {},
   "outputs": [
    {
     "name": "stdout",
     "output_type": "stream",
     "text": [
      "s1 e s2: [0, 0]\n",
      "For this input [0, 0] the output is 0\n",
      "s1 e s2: [1, 0]\n",
      "For this input [0, 1] the output is 1\n",
      "s1 e s2: [0, 1]\n",
      "For this input [1, 0] the output is 1\n",
      "s1 e s2: [0, 0]\n",
      "For this input [1, 1] the output is 0\n"
     ]
    }
   ],
   "source": [
    "if __name__ == '__main__':\n",
    "    xor_data = [[0, 0], [0, 1], [1, 0], [1, 1]]\n",
    "    w1 = [-1, 1]\n",
    "    w2 = [1, -1]\n",
    "    w_mid = [1, 1]\n",
    "\n",
    "    for x in xor_data:\n",
    "        s1 = perceptron(x, w1, b=-1)\n",
    "        s2 = perceptron(x, w2, b=-1)\n",
    "        y = perceptron([s1, s2], w_mid, b=-0.5)\n",
    "        print(f'For this input {x} the output is {y}')"
   ]
  }
 ],
 "metadata": {
  "kernelspec": {
   "display_name": "Python 3",
   "language": "python",
   "name": "python3"
  },
  "language_info": {
   "codemirror_mode": {
    "name": "ipython",
    "version": 3
   },
   "file_extension": ".py",
   "mimetype": "text/x-python",
   "name": "python",
   "nbconvert_exporter": "python",
   "pygments_lexer": "ipython3",
   "version": "3.10.12"
  }
 },
 "nbformat": 4,
 "nbformat_minor": 2
}
